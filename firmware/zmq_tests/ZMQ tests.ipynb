{
 "cells": [
  {
   "cell_type": "markdown",
   "id": "9519d1bf",
   "metadata": {},
   "source": [
    "## notes\n",
    "- the node that does zmq_bind() is a “server”, sitting on a well-known network address \n",
    "- the node which does zmq_connect() is a “client”\n",
    "- There is no zmq_accept() method. When a socket is bound to an endpoint it automatically starts accepting connections."
   ]
  },
  {
   "cell_type": "code",
   "execution_count": null,
   "id": "b41f4034",
   "metadata": {},
   "outputs": [
    {
     "name": "stderr",
     "output_type": "stream",
     "text": [
      "'pyzmq' n�o � reconhecido como um comando interno\n",
      "ou externo, um programa oper�vel ou um arquivo em lotes.\n"
     ]
    }
   ],
   "source": [
    "! pip install pyzmq\n",
    "# ! pip install --upgrade pip"
   ]
  }
 ],
 "metadata": {
  "kernelspec": {
   "display_name": "Python 3",
   "language": "python",
   "name": "python3"
  },
  "language_info": {
   "codemirror_mode": {
    "name": "ipython",
    "version": 3
   },
   "file_extension": ".py",
   "mimetype": "text/x-python",
   "name": "python",
   "nbconvert_exporter": "python",
   "pygments_lexer": "ipython3",
   "version": "3.10.4"
  }
 },
 "nbformat": 4,
 "nbformat_minor": 5
}
