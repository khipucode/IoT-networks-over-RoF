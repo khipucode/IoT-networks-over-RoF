{
 "cells": [
  {
   "cell_type": "code",
   "execution_count": 1,
   "id": "aeee3da5",
   "metadata": {},
   "outputs": [],
   "source": [
    "from datetime import datetime\n",
    "import os"
   ]
  },
  {
   "cell_type": "code",
   "execution_count": 2,
   "id": "43c08c34",
   "metadata": {},
   "outputs": [],
   "source": [
    "path = r'C:\\Users\\smorihiro\\Documents\\Unicamp\\IC\\api_console_session_2025-04-15.log'\n",
    "dateFormat = \"%m-%d-%Y %H:%M:%S\""
   ]
  },
  {
   "cell_type": "code",
   "execution_count": 3,
   "id": "14f3fd54",
   "metadata": {},
   "outputs": [],
   "source": [
    "def ASCIIDecodifier(hex):\n",
    "    \"\"\"\n",
    "    Converte um valor hexadecimal (string) para seu caractere ASCII correspondente.\n",
    "    Ex: '41' -> 'A'\n",
    "    \"\"\"\n",
    "    try:\n",
    "        value = int(hex, 16)  # Converte de hex para decimal\n",
    "        return chr(value)         # Converte decimal para caractere\n",
    "    except ValueError:\n",
    "        return \"Entrada inválida\"\n"
   ]
  },
  {
   "cell_type": "code",
   "execution_count": 4,
   "id": "a8be9042",
   "metadata": {},
   "outputs": [],
   "source": [
    "def breakString(s):\n",
    "    \"\"\"Realiza a quebra da string recebida em seus valores hexadecimais recebidos.\"\"\"\n",
    "    return [ASCIIDecodifier(s[i:i+2]) for i in range(0, len(s), 2)]\n"
   ]
  },
  {
   "cell_type": "code",
   "execution_count": null,
   "id": "e3f5a0cc",
   "metadata": {},
   "outputs": [
    {
     "name": "stdout",
     "output_type": "stream",
     "text": [
      "4E353030302D51344530FB\n",
      "4E353030312D56345349CE\n",
      "4E353030322D5732534FC8\n",
      "4E353030332D5A374258C7\n",
      "4E353030342D4F573541D5\n",
      "4E353030352D32374D3109\n",
      "4E353030362D354B3249F3\n",
      "4E353030372D51345954BC\n",
      "4E353030382D434C4257C5\n",
      "4E353030392D37423045FD\n",
      "4E353031302D39325538FC\n",
      "4E353031312D5A475257A9\n",
      "4E353031322D42523443E7\n",
      "4E353031332D53564232D4\n",
      "4E353031352D49444F52C1\n",
      "4E353031362D54515649AA\n",
      "4E353031372D4B4C3351D2\n",
      "4E353031382D494D4934D9\n",
      "4E353031392D41335131F4\n",
      "4E353032302D444A5136DE\n",
      "4E353032312D59374C57BF\n",
      "4E353032322D37503644F0\n",
      "4E353032332D4F4D3059CB\n",
      "4E353032342D4C454B58BB\n",
      "4E353032352D56545A5991\n",
      "4E353032372D4A37304CEF\n",
      "4E353032382D48464A38DB\n",
      "4E353032392D57434D50B3\n",
      "4E353033302D5256584EA4\n",
      "4E353033312D58564B49AF\n",
      "4E353033322D5349594EAD\n",
      "4E353033332D4B465047C7\n",
      "4E353033342D50515339C1\n",
      "4E353033352D3732335AF7\n",
      "4E353033362D464B5159B1\n",
      "4E353033372D4A545155A7\n",
      "4E353033382D304E353304\n",
      "4E353033392D42453251DF\n",
      "4E353034312D304F364BF0\n",
      "4E353034322D4455324BD9\n",
      "4E353034332D58534C39BE\n",
      "4E353034342D58564258A5\n",
      "4E353034352D4B37554ACB\n",
      "4E353034362D35395A49DA\n",
      "4E353034372D47384143E7\n",
      "4E353034382D5A354430E6\n",
      "4E353034392D56564D549B\n"
     ]
    }
   ],
   "source": [
    "timestamps = []\n",
    "decodedData = []\n",
    "packetCount = 0\n",
    "\n",
    "with open(path, 'r') as arquivo_log:\n",
    "    for linha in arquivo_log:\n",
    "        l = linha.strip()\n",
    "        parse = l.split(',')\n",
    "        \n",
    "        if \"Sink\" in l:\n",
    "            sinkNumber = parse[3]\n",
    "            macNumber = parse[4]\n",
    "            protocolInfo = parse[5]\n",
    "            firmwareInfo = parse[6]\n",
    "        \n",
    "        # TODO: conferir a existencia do delimitador de início\n",
    "        if parse != [] and len(parse) == 4:\n",
    "            timestamps.append(parse[0][:-4])\n",
    "            packetCount += 1 \n",
    "            \n",
    "            data = parse[3]\n",
    "            startDelimiter = data[:2]\n",
    "            length = data[2:6]\n",
    "            frameType = data[6:8]\n",
    "            sourceAddress = data[8:12]\n",
    "            rssiValue = data[12:14]\n",
    "            optionsValuse = data[14:16]\n",
    "            rfData = data[16:]\n",
    "            print(rfData)\n",
    "\n",
    "            info = breakString(rfData)\n",
    "            decodedData.append(''.join(info)[:-1])\n",
    "\n",
    "            #print(''.join(info)[:-1])\n",
    "            # 7E 000F 81 0000 47 02 4E353030302D51344530FB\n"
   ]
  },
  {
   "cell_type": "code",
   "execution_count": 71,
   "id": "61425dfc",
   "metadata": {},
   "outputs": [],
   "source": [
    "for content in decodedData:\n",
    "    nodeNumber = content[1]"
   ]
  },
  {
   "cell_type": "code",
   "execution_count": 85,
   "id": "97f06c64",
   "metadata": {},
   "outputs": [],
   "source": [
    "def writeData(content, nodeNumber):\n",
    "    \"Escreve o conteúdo transmitido por um nó em seu respectivo arquivo\"\n",
    "    fileName = f\"node{nodeNumber}.txt\"\n",
    "\n",
    "    try:\n",
    "        with open(fileName, 'a') as f:\n",
    "            f.write(content + '\\n')\n",
    "        # print(f\"Escrito em {fileName}\")\n",
    "        \n",
    "    except Exception as e:\n",
    "        print(f\"Erro ao escrever no arquivo: {e}\")"
   ]
  },
  {
   "cell_type": "code",
   "execution_count": 87,
   "id": "0f624602",
   "metadata": {},
   "outputs": [],
   "source": [
    "for i in range(len(decodedData)):\n",
    "    content = timestamps[i] + \" \" + decodedData[i]\n",
    "    nodeNumber = decodedData[i][1]\n",
    "    writeData(content, nodeNumber)"
   ]
  },
  {
   "cell_type": "code",
   "execution_count": null,
   "id": "4be12dbb",
   "metadata": {},
   "outputs": [],
   "source": [
    "def timeDelta(t1, t2):\n",
    "    \"\"\"Recebe uma string, converte em datetime e calcula o delta\"\"\"\n",
    "    dt1 = datetime.strptime(t1, dateFormat)\n",
    "    dt2 = datetime.strptime(t2, dateFormat)\n",
    "    return dt2 - dt1"
   ]
  },
  {
   "cell_type": "code",
   "execution_count": null,
   "id": "b05e409d",
   "metadata": {},
   "outputs": [
    {
     "name": "stdout",
     "output_type": "stream",
     "text": [
      "['04-15-2025 13:42:44', '04-15-2025 13:42:44', '04-15-2025 13:42:44', '04-15-2025 13:42:44', '04-15-2025 13:42:44', '04-15-2025 13:42:44', '04-15-2025 13:42:44', '04-15-2025 13:42:44', '04-15-2025 13:42:44', '04-15-2025 13:42:44', '04-15-2025 13:42:44', '04-15-2025 13:42:44', '04-15-2025 13:42:44', '04-15-2025 13:42:44', '04-15-2025 13:42:44', '04-15-2025 13:42:44', '04-15-2025 13:42:44', '04-15-2025 13:42:44', '04-15-2025 13:42:44', '04-15-2025 13:42:44', '04-15-2025 13:42:44', '04-15-2025 13:42:44', '04-15-2025 13:42:44', '04-15-2025 13:42:44', '04-15-2025 13:42:44', '04-15-2025 13:42:44', '04-15-2025 13:42:44', '04-15-2025 13:42:44', '04-15-2025 13:42:44', '04-15-2025 13:42:44', '04-15-2025 13:42:44', '04-15-2025 13:42:44', '04-15-2025 13:42:44', '04-15-2025 13:42:44', '04-15-2025 13:42:44', '04-15-2025 13:42:44', '04-15-2025 13:42:44', '04-15-2025 13:42:44', '04-15-2025 13:42:44', '04-15-2025 13:42:44', '04-15-2025 13:42:44', '04-15-2025 13:42:44', '04-15-2025 13:42:44', '04-15-2025 13:42:44', '04-15-2025 13:42:44', '04-15-2025 13:42:44', '04-15-2025 13:42:44']\n",
      "0:00:00 0:00:00 0:00:00 0:00:00 0:00:00 0:00:00 0:00:00 0:00:00 0:00:00 0:00:00 0:00:00 0:00:00 0:00:00 0:00:00 0:00:00 0:00:00 0:00:00 0:00:00 0:00:00 0:00:00 0:00:00 0:00:00 0:00:00 0:00:00 0:00:00 0:00:00 0:00:00 0:00:00 0:00:00 0:00:00 0:00:00 0:00:00 0:00:00 0:00:00 0:00:00 0:00:00 0:00:00 0:00:00 0:00:00 0:00:00 0:00:00 0:00:00 0:00:00 0:00:00 0:00:00 0:00:00\n"
     ]
    }
   ],
   "source": [
    "deltas = []\n",
    "\n",
    "for i in range(len(timestamps)-1):\n",
    "    deltas.append(timeDelta(timestamps[i], timestamps[i+1]))\n",
    "\n",
    "print(*deltas)"
   ]
  }
 ],
 "metadata": {
  "kernelspec": {
   "display_name": "Python 3",
   "language": "python",
   "name": "python3"
  },
  "language_info": {
   "codemirror_mode": {
    "name": "ipython",
    "version": 3
   },
   "file_extension": ".py",
   "mimetype": "text/x-python",
   "name": "python",
   "nbconvert_exporter": "python",
   "pygments_lexer": "ipython3",
   "version": "3.10.4"
  }
 },
 "nbformat": 4,
 "nbformat_minor": 5
}
