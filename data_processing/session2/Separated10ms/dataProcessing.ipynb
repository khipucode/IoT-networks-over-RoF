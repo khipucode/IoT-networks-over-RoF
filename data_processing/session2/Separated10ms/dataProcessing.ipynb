{
 "cells": [
  {
   "cell_type": "code",
   "execution_count": 12,
   "id": "aeee3da5",
   "metadata": {},
   "outputs": [],
   "source": [
    "from datetime import datetime\n",
    "import os"
   ]
  },
  {
   "cell_type": "code",
   "execution_count": 19,
   "id": "14f3fd54",
   "metadata": {},
   "outputs": [],
   "source": [
    "def ASCIIDecodifier(hex):\n",
    "    \"\"\"\n",
    "    Converte um valor hexadecimal (string) para seu caractere ASCII correspondente.\n",
    "    Ex: '41' -> 'A'\n",
    "    \"\"\"\n",
    "    try:\n",
    "        value = int(hex, 16)  # Converte de hex para decimal\n",
    "        return chr(value)         # Converte decimal para caractere\n",
    "    except ValueError:\n",
    "        return \"Entrada inválida\"\n"
   ]
  },
  {
   "cell_type": "code",
   "execution_count": 20,
   "id": "a8be9042",
   "metadata": {},
   "outputs": [],
   "source": [
    "def breakString(s):\n",
    "    \"\"\"Realiza a quebra da string recebida em seus valores hexadecimais recebidos.\"\"\"\n",
    "    return [ASCIIDecodifier(s[i:i+2]) for i in range(0, len(s), 2)]\n"
   ]
  },
  {
   "cell_type": "code",
   "execution_count": 40,
   "id": "97f06c64",
   "metadata": {},
   "outputs": [],
   "source": [
    "def writeData(content, nodeNumber):\n",
    "    \"Escreve o conteúdo transmitido por um nó em seu respectivo arquivo\"\n",
    "    fileName = f\"node{nodeNumber}.txt\"\n",
    "\n",
    "    try:\n",
    "        with open(fileName, 'a') as f:\n",
    "            f.write(content + '\\n')\n",
    "        # print(f\"Escrito em {fileName}\")\n",
    "        \n",
    "    except Exception as e:\n",
    "        print(f\"Erro ao escrever no arquivo: {e}\")"
   ]
  },
  {
   "cell_type": "code",
   "execution_count": null,
   "id": "43c08c34",
   "metadata": {},
   "outputs": [],
   "source": [
    "path = r'C:\\Users\\smorihiro\\Documents\\Unicamp\\IC\\Station1_Station2\\Separated10ms\\sink1_8nodes.log'\n",
    "dateFormat = \"%m-%d-%Y %H:%M:%S\""
   ]
  },
  {
   "cell_type": "code",
   "execution_count": 47,
   "id": "e3f5a0cc",
   "metadata": {},
   "outputs": [
    {
     "ename": "FileNotFoundError",
     "evalue": "[Errno 2] No such file or directory: 'C:\\\\Users\\\\smorihiro\\\\Documents\\\\Unicamp\\\\IC\\\\Station1_Station2\\\\Separated10ms\\\\sink1_8nodes_T1.log'",
     "output_type": "error",
     "traceback": [
      "\u001b[1;31m---------------------------------------------------------------------------\u001b[0m",
      "\u001b[1;31mFileNotFoundError\u001b[0m                         Traceback (most recent call last)",
      "Input \u001b[1;32mIn [47]\u001b[0m, in \u001b[0;36m<cell line: 6>\u001b[1;34m()\u001b[0m\n\u001b[0;32m      3\u001b[0m packetCount \u001b[38;5;241m=\u001b[39m \u001b[38;5;241m0\u001b[39m\n\u001b[0;32m      4\u001b[0m packetNumbers \u001b[38;5;241m=\u001b[39m []\n\u001b[1;32m----> 6\u001b[0m \u001b[38;5;28;01mwith\u001b[39;00m \u001b[38;5;28;43mopen\u001b[39;49m\u001b[43m(\u001b[49m\u001b[43mpath\u001b[49m\u001b[43m,\u001b[49m\u001b[43m \u001b[49m\u001b[38;5;124;43m'\u001b[39;49m\u001b[38;5;124;43mr\u001b[39;49m\u001b[38;5;124;43m'\u001b[39;49m\u001b[43m)\u001b[49m \u001b[38;5;28;01mas\u001b[39;00m arquivo_log:\n\u001b[0;32m      7\u001b[0m     \u001b[38;5;28;01mfor\u001b[39;00m linha \u001b[38;5;129;01min\u001b[39;00m arquivo_log:\n\u001b[0;32m      8\u001b[0m         l \u001b[38;5;241m=\u001b[39m linha\u001b[38;5;241m.\u001b[39mstrip()\n",
      "\u001b[1;31mFileNotFoundError\u001b[0m: [Errno 2] No such file or directory: 'C:\\\\Users\\\\smorihiro\\\\Documents\\\\Unicamp\\\\IC\\\\Station1_Station2\\\\Separated10ms\\\\sink1_8nodes_T1.log'"
     ]
    }
   ],
   "source": [
    "timestamps = []\n",
    "decodedData = []\n",
    "packetCount = 0\n",
    "packetNumbers = []\n",
    "\n",
    "with open(path, 'r') as arquivo_log:\n",
    "    for linha in arquivo_log:\n",
    "        l = linha.strip()\n",
    "        parse = l.split(',')\n",
    "        \n",
    "        if \"Sink\" in l:\n",
    "            sinkTimestamp = parse[0]\n",
    "            sinkNumber = parse[3]\n",
    "            macNumber = parse[4]\n",
    "            protocolInfo = parse[5]\n",
    "            firmwareInfo = parse[6]\n",
    "        \n",
    "        # TODO: conferir a existencia do delimitador de início\n",
    "        if parse != [] and len(parse) == 4:\n",
    "            timestamps.append(parse[0]) # [:-4]\n",
    "            packetCount += 1 \n",
    "            packetNumbers.append(parse[1])\n",
    "            \n",
    "            data = parse[3]\n",
    "            startDelimiter = data[:2]\n",
    "            length = data[2:6]\n",
    "            frameType = data[6:8]\n",
    "            sourceAddress = data[8:12]\n",
    "            rssiValue = data[12:14]\n",
    "            optionsValuse = data[14:16]\n",
    "            rfData = data[16:]\n",
    "            #print(rfData)\n",
    "\n",
    "            info = breakString(rfData)\n",
    "            decodedData.append(''.join(info)[:-1][-10:])\n",
    "\n",
    "            print(parse[1], ''.join(info)[:-1][-10:])\n",
    "            # 7E 000F 81 0000 47 02 4E353030302D51344530FB\n"
   ]
  },
  {
   "cell_type": "code",
   "execution_count": 39,
   "id": "6c9d6bab",
   "metadata": {},
   "outputs": [
    {
     "name": "stdout",
     "output_type": "stream",
     "text": [
      "ÿÿÿÿÿ\u0000\u0000\u0000SH\n",
      "ÿÿÿÿÿ\u0000\u0000\u0000SH\n",
      "0 1 2 3 4 5 6 7 8 9 10 11 12 13 14 15 16 17 18 19 20 21 22 23 24 25 26 27 28 29 30 31 32 33 34 35 36 37 38 39 40 41 42 43 44 45 46 47 48 49 50 51 52 53 54 55 56 57 58 59 60 61 62 63 64 65 66 67 68 69 70 71 72 73 74 75 76 77 78 79 80 81 82 83 84 85 86 87 88 89 90 91 92 93 94 95 96 97 98 99 100 101 102 103 104 105 106 107 108 109 110 111 112 113 114 115 116 117 118 119 120 121 122 123 124 125 126 127 128 129 130 131 132 133 134 135 136 137 138 139 140 141 142 143 144 145 146 147 148 149 150 151 152 153 154 155 156 157 158 159 160 161 162 163 164 165 166 167 168 169 170 171 172 173 174 175 176 177 178 179 180 181 182 183 184 185 186 187 188 189 190 191 192 193 194 195 196 197 198 199 200 201 202 203 204 205 206 207 208 209 210 211 212 213 214 215 216 217 218 219 220 221 222 223 224 225 226 227 228 229 230 231 232 233 234 235 236 237 238 239 240 241 242 243 244 245 246 247 248 249 250 251 252 253 254 255 256 257 258 259 260 261 262 263 264 265 266 267 268 269 270 271 272 273 274 275 276 277 278 279 280 281 282 283 284 285 286 287 288 289 290 291 292 293 294 295 296 297 298 299 300 301 302 303 304 305 306 307 308\n"
     ]
    }
   ],
   "source": [
    "for item in decodedData:\n",
    "    if \"-\" not in item:\n",
    "        print(item)\n",
    "\n",
    "print(* packetNumbers)"
   ]
  },
  {
   "cell_type": "code",
   "execution_count": 42,
   "id": "61425dfc",
   "metadata": {},
   "outputs": [],
   "source": [
    "for content in decodedData:\n",
    "    nodeNumber = content[1]\n",
    "    # print(content[1])"
   ]
  },
  {
   "cell_type": "code",
   "execution_count": 44,
   "id": "0f624602",
   "metadata": {},
   "outputs": [
    {
     "name": "stdout",
     "output_type": "stream",
     "text": [
      "05-04-2025 21:40:42.646, 34, 1013-0CFI}\n",
      "05-04-2025 21:40:42.851, 39, 3009-H30T}\n",
      "05-04-2025 21:40:42.852, 58, 1020-6KF3}\n",
      "05-04-2025 21:40:42.852, 73, 3021-OCC2}\n",
      "05-04-2025 21:40:43.133, 140, 4058-LC1D}\n",
      "05-04-2025 21:40:43.667, 294, 3098-7LE1}\n"
     ]
    }
   ],
   "source": [
    "header = sinkTimestamp + sinkNumber + macNumber + protocolInfo + firmwareInfo\n",
    "writeData(header, nodeNumber)\n",
    "\n",
    "for i in range(len(decodedData)):\n",
    "    if \"-\" in decodedData[i]:\n",
    "        content = timestamps[i] + \", \" + packetNumbers[i] + \", \" + decodedData[i]\n",
    "        nodeNumber = decodedData[i][1]\n",
    "        if nodeNumber == \"0\":\n",
    "            print(content)\n",
    "        writeData(content, nodeNumber)"
   ]
  },
  {
   "cell_type": "code",
   "execution_count": null,
   "id": "4be12dbb",
   "metadata": {},
   "outputs": [],
   "source": [
    "def timeDelta(t1, t2):\n",
    "    \"\"\"Recebe uma string, converte em datetime e calcula o delta\"\"\"\n",
    "    dt1 = datetime.strptime(t1, dateFormat)\n",
    "    dt2 = datetime.strptime(t2, dateFormat)\n",
    "    return dt2 - dt1"
   ]
  },
  {
   "cell_type": "code",
   "execution_count": null,
   "id": "b05e409d",
   "metadata": {},
   "outputs": [
    {
     "name": "stdout",
     "output_type": "stream",
     "text": [
      "['04-15-2025 13:42:44', '04-15-2025 13:42:44', '04-15-2025 13:42:44', '04-15-2025 13:42:44', '04-15-2025 13:42:44', '04-15-2025 13:42:44', '04-15-2025 13:42:44', '04-15-2025 13:42:44', '04-15-2025 13:42:44', '04-15-2025 13:42:44', '04-15-2025 13:42:44', '04-15-2025 13:42:44', '04-15-2025 13:42:44', '04-15-2025 13:42:44', '04-15-2025 13:42:44', '04-15-2025 13:42:44', '04-15-2025 13:42:44', '04-15-2025 13:42:44', '04-15-2025 13:42:44', '04-15-2025 13:42:44', '04-15-2025 13:42:44', '04-15-2025 13:42:44', '04-15-2025 13:42:44', '04-15-2025 13:42:44', '04-15-2025 13:42:44', '04-15-2025 13:42:44', '04-15-2025 13:42:44', '04-15-2025 13:42:44', '04-15-2025 13:42:44', '04-15-2025 13:42:44', '04-15-2025 13:42:44', '04-15-2025 13:42:44', '04-15-2025 13:42:44', '04-15-2025 13:42:44', '04-15-2025 13:42:44', '04-15-2025 13:42:44', '04-15-2025 13:42:44', '04-15-2025 13:42:44', '04-15-2025 13:42:44', '04-15-2025 13:42:44', '04-15-2025 13:42:44', '04-15-2025 13:42:44', '04-15-2025 13:42:44', '04-15-2025 13:42:44', '04-15-2025 13:42:44', '04-15-2025 13:42:44', '04-15-2025 13:42:44']\n",
      "0:00:00 0:00:00 0:00:00 0:00:00 0:00:00 0:00:00 0:00:00 0:00:00 0:00:00 0:00:00 0:00:00 0:00:00 0:00:00 0:00:00 0:00:00 0:00:00 0:00:00 0:00:00 0:00:00 0:00:00 0:00:00 0:00:00 0:00:00 0:00:00 0:00:00 0:00:00 0:00:00 0:00:00 0:00:00 0:00:00 0:00:00 0:00:00 0:00:00 0:00:00 0:00:00 0:00:00 0:00:00 0:00:00 0:00:00 0:00:00 0:00:00 0:00:00 0:00:00 0:00:00 0:00:00 0:00:00\n"
     ]
    }
   ],
   "source": [
    "deltas = []\n",
    "\n",
    "for i in range(len(timestamps)-1):\n",
    "    deltas.append(timeDelta(timestamps[i], timestamps[i+1]))\n",
    "\n",
    "print(*deltas)"
   ]
  }
 ],
 "metadata": {
  "kernelspec": {
   "display_name": "Python 3",
   "language": "python",
   "name": "python3"
  },
  "language_info": {
   "codemirror_mode": {
    "name": "ipython",
    "version": 3
   },
   "file_extension": ".py",
   "mimetype": "text/x-python",
   "name": "python",
   "nbconvert_exporter": "python",
   "pygments_lexer": "ipython3",
   "version": "3.10.4"
  }
 },
 "nbformat": 4,
 "nbformat_minor": 5
}
